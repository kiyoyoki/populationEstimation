{
 "cells": [
  {
   "cell_type": "code",
   "execution_count": null,
   "id": "27ab7a67",
   "metadata": {},
   "outputs": [],
   "source": [
    "# 各種パッケージのimport\n",
    "import pandas as pd\n",
    "import numpy as np\n",
    "import matplotlib.pyplot as plt"
   ]
  },
  {
   "cell_type": "code",
   "execution_count": null,
   "id": "6812750c",
   "metadata": {},
   "outputs": [],
   "source": [
    "# 複数のシートがある場合は第二引数で指定できる(p.202)\n",
    "df = pd.read_excel('lifeR2.xlsx', '令和２年簡易生命表（男）',header=4)\n",
    "print(df.info)\n",
    "print(df.columns)"
   ]
  },
  {
   "cell_type": "code",
   "execution_count": null,
   "id": "b3983731",
   "metadata": {},
   "outputs": [],
   "source": [
    "# 空列の除外(p.151)\n",
    "# もっとスマートな方法はないのか\n",
    "df = df.drop(df.columns[[0, 2, 4, 6, 8, 10, 12, 14, 15, 17, 19, 21, 23, 25, 27]], axis=1)"
   ]
  },
  {
   "cell_type": "code",
   "execution_count": null,
   "id": "254b7dfe",
   "metadata": {},
   "outputs": [],
   "source": [
    "df.head()"
   ]
  },
  {
   "cell_type": "code",
   "execution_count": null,
   "id": "091fd347",
   "metadata": {},
   "outputs": [],
   "source": [
    "# 生命表が行方向に折り返されているので、それを戻す(p.157, p.260)\n",
    "\n",
    "# 列名が揃わないとpd.concatで別に扱われるので、修正\n",
    "# 一部の列名を変えるだけならrenameでもよい\n",
    "df2 = df.loc[:,'x.1':]\n",
    "df2.set_axis(['x', 'nqx', 'lx', 'ndx', 'nLx', 'Tx', 'ex'], axis=1, inplace=True)"
   ]
  },
  {
   "cell_type": "code",
   "execution_count": null,
   "id": "94ca78ee",
   "metadata": {},
   "outputs": [],
   "source": [
    "# 行方向に一列の生命表DataFrameを作る\n",
    "life_table_man = pd.concat([df.loc[:,:'ex'], df2])\n",
    "\n",
    "# 欠損値を含む行を削除\n",
    "life_table_man = life_table_man.dropna()\n",
    "\n",
    "# indexを通番で振りなおす(元のインデックスも残るので、\n",
    "# いらないなら削除したほうが良い)\n",
    "life_table_man.reset_index(inplace=True)"
   ]
  },
  {
   "cell_type": "code",
   "execution_count": null,
   "id": "fe2fb748",
   "metadata": {},
   "outputs": [],
   "source": [
    "# 年齢を重ねるごとにコーホートがどの程度残存するか試しにプロット\n",
    "plt.plot(life_table_man.iloc[8:,1], life_table_man.iloc[8:,3])"
   ]
  },
  {
   "cell_type": "code",
   "execution_count": null,
   "id": "4ed1c1ce",
   "metadata": {},
   "outputs": [],
   "source": []
  }
 ],
 "metadata": {
  "kernelspec": {
   "display_name": "Python 3 (ipykernel)",
   "language": "python",
   "name": "python3"
  },
  "language_info": {
   "codemirror_mode": {
    "name": "ipython",
    "version": 3
   },
   "file_extension": ".py",
   "mimetype": "text/x-python",
   "name": "python",
   "nbconvert_exporter": "python",
   "pygments_lexer": "ipython3",
   "version": "3.8.10"
  }
 },
 "nbformat": 4,
 "nbformat_minor": 5
}
